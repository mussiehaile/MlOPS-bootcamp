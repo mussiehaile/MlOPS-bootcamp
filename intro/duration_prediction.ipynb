{
  "cells": [
    {
      "cell_type": "code",
      "execution_count": 1,
      "id": "41062d8a",
      "metadata": {
        "id": "41062d8a"
      },
      "outputs": [],
      "source": [
        "import pandas as pd\n",
        "import pickle\n",
        "import seaborn as sns\n",
        "import matplotlib.pyplot as plt\n",
        "from sklearn.feature_extraction import DictVectorizer\n",
        "from sklearn.linear_model import LinearRegression\n",
        "from sklearn.linear_model import Lasso\n",
        "from sklearn.linear_model import Ridge\n",
        "\n",
        "from sklearn.metrics import mean_squared_error"
      ]
    },
    {
      "cell_type": "code",
      "execution_count": 5,
      "id": "8e013caf",
      "metadata": {
        "colab": {
          "base_uri": "https://localhost:8080/"
        },
        "id": "8e013caf",
        "outputId": "4ab8ff1d-8b36-4119-a535-beb13b967cdc"
      },
      "outputs": [
        {
          "output_type": "stream",
          "name": "stdout",
          "text": [
            "number of columns: 19\n",
            "duration in a min 46.44530513776802\n",
            "percentage of our data under the given range 98.27547930522405\n"
          ]
        }
      ],
      "source": [
        "df = pd.read_parquet('/content/drive/MyDrive/duration/data/yellow_tripdata_2022-01.parquet')\n",
        "\n",
        "print('number of columns:', df.shape[1])\n",
        "\n",
        "df['duration'] = df.tpep_dropoff_datetime - df.tpep_pickup_datetime\n",
        "df.duration = df.duration.apply(lambda td: td.total_seconds() / 60)\n",
        "\n",
        "print('duration in a min',df.duration.describe()['std'])\n",
        "\n",
        "num_records = df[(df['duration'] >= 1) & (df['duration'] <= 60)].shape[0]\n",
        "fraction = num_records / df.shape[0]\n",
        "percentage = fraction * 100\n",
        "print('percentage of our data under the given range', percentage)\n",
        "\n",
        "df = df[(df.duration >= 1) & (df.duration <= 60)]\n",
        "\n",
        "categorical = ['PULocationID', 'DOLocationID']\n",
        "\n",
        "df[categorical] = df[categorical].astype(str)"
      ]
    },
    {
      "cell_type": "code",
      "execution_count": 7,
      "id": "116ff0cc",
      "metadata": {
        "colab": {
          "base_uri": "https://localhost:8080/"
        },
        "id": "116ff0cc",
        "outputId": "8c3e5e3a-6cc2-4366-88c1-d6c8c8238e3a"
      },
      "outputs": [
        {
          "output_type": "stream",
          "name": "stdout",
          "text": [
            "number of columns 515\n",
            "root_mean_square on training  6.986190742248472\n"
          ]
        }
      ],
      "source": [
        "train_dicts = df[categorical].to_dict(orient='records')\n",
        "\n",
        "dv = DictVectorizer()\n",
        "X_train = dv.fit_transform(train_dicts)\n",
        "\n",
        "print('number of columns',X_train.shape[1])\n",
        "\n",
        "target = 'duration'\n",
        "y_train = df[target].values\n",
        "\n",
        "lr = LinearRegression()\n",
        "model =lr.fit(X_train, y_train)\n",
        "\n",
        "y_pred = model.predict(X_train)\n",
        "\n",
        "rmse =mean_squared_error(y_train, y_pred, squared=False)\n",
        "print('root_mean_square on training ',rmse)"
      ]
    },
    {
      "cell_type": "markdown",
      "source": [
        "#validation"
      ],
      "metadata": {
        "id": "greDIcrxVEqr"
      },
      "id": "greDIcrxVEqr"
    },
    {
      "cell_type": "code",
      "execution_count": 8,
      "id": "f9e6479e",
      "metadata": {
        "id": "f9e6479e"
      },
      "outputs": [],
      "source": [
        "def read_dataframe(filename):\n",
        "  df = pd.read_parquet(filename)\n",
        "\n",
        "  df.tpep_dropoff_datetime = pd.to_datetime(df.tpep_dropoff_datetime)\n",
        "  df.tpep_pickup_datetime = pd.to_datetime(df.tpep_pickup_datetime)\n",
        "\n",
        "  df['duration'] = df.tpep_dropoff_datetime - df.tpep_pickup_datetime\n",
        "  df.duration = df.duration.apply(lambda td: td.total_seconds() / 60)\n",
        "\n",
        "  \n",
        "  df = df[(df.duration >= 1) & (df.duration <= 60)]\n",
        "\n",
        "  categorical = ['PULocationID', 'DOLocationID']\n",
        "  df[categorical] = df[categorical].astype(str)\n",
        "  \n",
        "  return df"
      ]
    },
    {
      "cell_type": "code",
      "execution_count": 12,
      "id": "8029eba0",
      "metadata": {
        "id": "8029eba0"
      },
      "outputs": [],
      "source": [
        "df_train = read_dataframe('/content/drive/MyDrive/duration/data/yellow_tripdata_2022-01.parquet')\n",
        "df_val = read_dataframe('/content/drive/MyDrive/duration/data/yellow_tripdata_2022-02.parquet')"
      ]
    },
    {
      "cell_type": "code",
      "execution_count": 13,
      "id": "f6f2f0eb",
      "metadata": {
        "colab": {
          "base_uri": "https://localhost:8080/"
        },
        "id": "f6f2f0eb",
        "outputId": "8f3957de-d4aa-4ce2-89ac-2d2554dd6242"
      },
      "outputs": [
        {
          "output_type": "execute_result",
          "data": {
            "text/plain": [
              "(2421440, 2918187)"
            ]
          },
          "metadata": {},
          "execution_count": 13
        }
      ],
      "source": [
        "len(df_train), len(df_val)"
      ]
    },
    {
      "cell_type": "code",
      "execution_count": 15,
      "id": "c5cbfc25",
      "metadata": {
        "id": "c5cbfc25"
      },
      "outputs": [],
      "source": [
        "categorical = ['PULocationID', 'DOLocationID'] \n",
        "\n",
        "dv = DictVectorizer()\n",
        "\n",
        "train_dicts = df_train[categorical].to_dict(orient='records')\n",
        "X_train = dv.fit_transform(train_dicts)\n",
        "\n",
        "val_dicts = df_val[categorical].to_dict(orient='records')\n",
        "X_val = dv.transform(val_dicts)"
      ]
    },
    {
      "cell_type": "code",
      "source": [
        "target = 'duration'\n",
        "y_val = df_val[target].values\n",
        "y_pred_val = model.predict(X_val)\n",
        "rmse = mean_squared_error(y_val, y_pred_val, squared=False)\n",
        "print('root mean squared error for validation data' , rmse)"
      ],
      "metadata": {
        "colab": {
          "base_uri": "https://localhost:8080/"
        },
        "id": "f909FYDJWkde",
        "outputId": "02b40717-3037-4498-e58a-24ef81c4175b"
      },
      "id": "f909FYDJWkde",
      "execution_count": 21,
      "outputs": [
        {
          "output_type": "stream",
          "name": "stdout",
          "text": [
            "root mean squared error for validation data 7.78640662117552\n"
          ]
        }
      ]
    },
    {
      "cell_type": "code",
      "source": [],
      "metadata": {
        "id": "9M6ZGUtIFly1"
      },
      "id": "9M6ZGUtIFly1",
      "execution_count": null,
      "outputs": []
    }
  ],
  "metadata": {
    "kernelspec": {
      "display_name": "Python 3 (ipykernel)",
      "language": "python",
      "name": "python3"
    },
    "language_info": {
      "codemirror_mode": {
        "name": "ipython",
        "version": 3
      },
      "file_extension": ".py",
      "mimetype": "text/x-python",
      "name": "python",
      "nbconvert_exporter": "python",
      "pygments_lexer": "ipython3",
      "version": "3.10.9"
    },
    "colab": {
      "provenance": []
    }
  },
  "nbformat": 4,
  "nbformat_minor": 5
}