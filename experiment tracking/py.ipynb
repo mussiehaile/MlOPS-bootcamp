{
 "cells": [
  {
   "cell_type": "code",
   "execution_count": 1,
   "metadata": {},
   "outputs": [],
   "source": [
    "import os\n",
    "import yaml\n",
    "\n",
    "meta = {\n",
    "    \"artifact_directory\": \"artifacts\",\n",
    "    \"experiment_id\": \"3\",\n",
    "    \"run_id\": \"your-run-id-here\"\n",
    "}\n",
    "\n",
    "meta_path = os.path.join(\"mlruns\", \"3\", \"meta.yaml\")\n",
    "with open(meta_path, \"w\") as f:\n",
    "    yaml.dump(meta, f)"
   ]
  }
 ],
 "metadata": {
  "kernelspec": {
   "display_name": "myenv",
   "language": "python",
   "name": "python3"
  },
  "language_info": {
   "codemirror_mode": {
    "name": "ipython",
    "version": 3
   },
   "file_extension": ".py",
   "mimetype": "text/x-python",
   "name": "python",
   "nbconvert_exporter": "python",
   "pygments_lexer": "ipython3",
   "version": "3.9.16"
  },
  "orig_nbformat": 4
 },
 "nbformat": 4,
 "nbformat_minor": 2
}
